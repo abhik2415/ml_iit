{
  "nbformat": 4,
  "nbformat_minor": 0,
  "metadata": {
    "colab": {
      "name": "Neural_Network_from_Scratch.ipynb",
      "provenance": [],
      "collapsed_sections": [],
      "include_colab_link": true
    },
    "kernelspec": {
      "name": "python3",
      "display_name": "Python 3"
    }
  },
  "cells": [
    {
      "cell_type": "markdown",
      "metadata": {
        "id": "view-in-github",
        "colab_type": "text"
      },
      "source": [
        "<a href=\"https://colab.research.google.com/github/abhik2415/ml_iit/blob/master/Neural_Network_from_Scratch.ipynb\" target=\"_parent\"><img src=\"https://colab.research.google.com/assets/colab-badge.svg\" alt=\"Open In Colab\"/></a>"
      ]
    },
    {
      "cell_type": "markdown",
      "metadata": {
        "id": "KI9EnUGt3DiS",
        "colab_type": "text"
      },
      "source": [
        "This is an important assignment.\n",
        "\n",
        "Take some time to undrstand the classic MNIST dataset here.\n",
        "http://yann.lecun.com/exdb/mnist/\n",
        "\n",
        "In this, we will use the copy of the MNIST dataset already provided in tensorflow package in an easy to access form. But we will not use tensorflow for designing the neural network. We will use that from next assignment. In this assisgnment, we will program a neural network from scratch.\n",
        "\n",
        "\n",
        "\n",
        "\n"
      ]
    },
    {
      "cell_type": "code",
      "metadata": {
        "id": "mIYmpDCmsc-f",
        "colab_type": "code",
        "colab": {}
      },
      "source": [
        "import tensorflow as tf; \n",
        "import numpy as np\n",
        "import matplotlib.pyplot as plt\n",
        "import random"
      ],
      "execution_count": 0,
      "outputs": []
    },
    {
      "cell_type": "code",
      "metadata": {
        "id": "oh0TrDPRxziQ",
        "colab_type": "code",
        "colab": {}
      },
      "source": [
        "mnist = tf.keras.datasets.mnist;"
      ],
      "execution_count": 0,
      "outputs": []
    },
    {
      "cell_type": "code",
      "metadata": {
        "id": "GQsAiAS7x4JN",
        "colab_type": "code",
        "outputId": "b19a54e4-7d95-4178-beff-1858a0b6655d",
        "colab": {
          "base_uri": "https://localhost:8080/",
          "height": 123
        }
      },
      "source": [
        "(x_train, y_train), (x_test, y_test) = mnist.load_data()\n",
        "print(x_train.shape)\n",
        "print(y_train.shape)\n",
        "print(x_test.shape)\n",
        "print(y_test.shape)"
      ],
      "execution_count": 0,
      "outputs": [
        {
          "output_type": "stream",
          "text": [
            "Downloading data from https://storage.googleapis.com/tensorflow/tf-keras-datasets/mnist.npz\n",
            "11493376/11490434 [==============================] - 0s 0us/step\n",
            "(60000, 28, 28)\n",
            "(60000,)\n",
            "(10000, 28, 28)\n",
            "(10000,)\n"
          ],
          "name": "stdout"
        }
      ]
    },
    {
      "cell_type": "code",
      "metadata": {
        "id": "GYJF1h5fyAqi",
        "colab_type": "code",
        "colab": {}
      },
      "source": [
        "x_train = tf.keras.utils.normalize(x_train)\n",
        "x_test = tf.keras.utils.normalize(x_test)"
      ],
      "execution_count": 0,
      "outputs": []
    },
    {
      "cell_type": "code",
      "metadata": {
        "id": "fgMMdR2Y9B6f",
        "colab_type": "code",
        "colab": {}
      },
      "source": [
        "#Reshape all images into single rows\n",
        "X = x_train.reshape(60000,784)\n",
        "y = y_train;"
      ],
      "execution_count": 0,
      "outputs": []
    },
    {
      "cell_type": "code",
      "metadata": {
        "id": "mFLvMQzRBEBv",
        "colab_type": "code",
        "outputId": "3f03f683-8bcc-47c5-b330-4a8bb90ff550",
        "colab": {
          "base_uri": "https://localhost:8080/",
          "height": 1000
        }
      },
      "source": [
        "\n",
        "#Let's look at the first row now\n",
        "X[0,:]"
      ],
      "execution_count": 0,
      "outputs": [
        {
          "output_type": "execute_result",
          "data": {
            "text/plain": [
              "array([0.        , 0.        , 0.        , 0.        , 0.        ,\n",
              "       0.        , 0.        , 0.        , 0.        , 0.        ,\n",
              "       0.        , 0.        , 0.        , 0.        , 0.        ,\n",
              "       0.        , 0.        , 0.        , 0.        , 0.        ,\n",
              "       0.        , 0.        , 0.        , 0.        , 0.        ,\n",
              "       0.        , 0.        , 0.        , 0.        , 0.        ,\n",
              "       0.        , 0.        , 0.        , 0.        , 0.        ,\n",
              "       0.        , 0.        , 0.        , 0.        , 0.        ,\n",
              "       0.        , 0.        , 0.        , 0.        , 0.        ,\n",
              "       0.        , 0.        , 0.        , 0.        , 0.        ,\n",
              "       0.        , 0.        , 0.        , 0.        , 0.        ,\n",
              "       0.        , 0.        , 0.        , 0.        , 0.        ,\n",
              "       0.        , 0.        , 0.        , 0.        , 0.        ,\n",
              "       0.        , 0.        , 0.        , 0.        , 0.        ,\n",
              "       0.        , 0.        , 0.        , 0.        , 0.        ,\n",
              "       0.        , 0.        , 0.        , 0.        , 0.        ,\n",
              "       0.        , 0.        , 0.        , 0.        , 0.        ,\n",
              "       0.        , 0.        , 0.        , 0.        , 0.        ,\n",
              "       0.        , 0.        , 0.        , 0.        , 0.        ,\n",
              "       0.        , 0.        , 0.        , 0.        , 0.        ,\n",
              "       0.        , 0.        , 0.        , 0.        , 0.        ,\n",
              "       0.        , 0.        , 0.        , 0.        , 0.        ,\n",
              "       0.        , 0.        , 0.        , 0.        , 0.        ,\n",
              "       0.        , 0.        , 0.        , 0.        , 0.        ,\n",
              "       0.        , 0.        , 0.        , 0.        , 0.        ,\n",
              "       0.        , 0.        , 0.        , 0.        , 0.        ,\n",
              "       0.        , 0.        , 0.        , 0.        , 0.        ,\n",
              "       0.        , 0.        , 0.        , 0.        , 0.        ,\n",
              "       0.        , 0.        , 0.        , 0.        , 0.        ,\n",
              "       0.        , 0.        , 0.        , 0.        , 0.        ,\n",
              "       0.        , 0.        , 0.00617053, 0.03702317, 0.03702317,\n",
              "       0.03702317, 0.25916217, 0.2797306 , 0.35994746, 0.05347791,\n",
              "       0.34143588, 0.52449487, 0.50804013, 0.26121901, 0.        ,\n",
              "       0.        , 0.        , 0.        , 0.        , 0.        ,\n",
              "       0.        , 0.        , 0.        , 0.        , 0.        ,\n",
              "       0.        , 0.03783863, 0.04540636, 0.11856105, 0.19423832,\n",
              "       0.21441893, 0.31910581, 0.31910581, 0.31910581, 0.31910581,\n",
              "       0.31910581, 0.28378975, 0.2169415 , 0.31910581, 0.30523165,\n",
              "       0.24595112, 0.08072242, 0.        , 0.        , 0.        ,\n",
              "       0.        , 0.        , 0.        , 0.        , 0.        ,\n",
              "       0.        , 0.        , 0.        , 0.06027503, 0.29276441,\n",
              "       0.31121595, 0.31121595, 0.31121595, 0.31121595, 0.31121595,\n",
              "       0.31121595, 0.31121595, 0.31121595, 0.30875574, 0.11439954,\n",
              "       0.10086841, 0.10086841, 0.06888574, 0.047974  , 0.        ,\n",
              "       0.        , 0.        , 0.        , 0.        , 0.        ,\n",
              "       0.        , 0.        , 0.        , 0.        , 0.        ,\n",
              "       0.        , 0.02405893, 0.29271693, 0.33816157, 0.33816157,\n",
              "       0.33816157, 0.33816157, 0.33816157, 0.26464818, 0.24326247,\n",
              "       0.33014192, 0.32212228, 0.        , 0.        , 0.        ,\n",
              "       0.        , 0.        , 0.        , 0.        , 0.        ,\n",
              "       0.        , 0.        , 0.        , 0.        , 0.        ,\n",
              "       0.        , 0.        , 0.        , 0.        , 0.        ,\n",
              "       0.16401365, 0.31982661, 0.21936825, 0.51869316, 0.51869316,\n",
              "       0.42028497, 0.02255188, 0.        , 0.08815734, 0.31572627,\n",
              "       0.        , 0.        , 0.        , 0.        , 0.        ,\n",
              "       0.        , 0.        , 0.        , 0.        , 0.        ,\n",
              "       0.        , 0.        , 0.        , 0.        , 0.        ,\n",
              "       0.        , 0.        , 0.        , 0.        , 0.04517963,\n",
              "       0.00322712, 0.49697592, 0.81646044, 0.29044047, 0.        ,\n",
              "       0.        , 0.        , 0.        , 0.        , 0.        ,\n",
              "       0.        , 0.        , 0.        , 0.        , 0.        ,\n",
              "       0.        , 0.        , 0.        , 0.        , 0.        ,\n",
              "       0.        , 0.        , 0.        , 0.        , 0.        ,\n",
              "       0.        , 0.        , 0.        , 0.        , 0.4022081 ,\n",
              "       0.73207661, 0.54978085, 0.00578717, 0.        , 0.        ,\n",
              "       0.        , 0.        , 0.        , 0.        , 0.        ,\n",
              "       0.        , 0.        , 0.        , 0.        , 0.        ,\n",
              "       0.        , 0.        , 0.        , 0.        , 0.        ,\n",
              "       0.        , 0.        , 0.        , 0.        , 0.        ,\n",
              "       0.        , 0.        , 0.03392574, 0.58599009, 0.78029206,\n",
              "       0.21589108, 0.        , 0.        , 0.        , 0.        ,\n",
              "       0.        , 0.        , 0.        , 0.        , 0.        ,\n",
              "       0.        , 0.        , 0.        , 0.        , 0.        ,\n",
              "       0.        , 0.        , 0.        , 0.        , 0.        ,\n",
              "       0.        , 0.        , 0.        , 0.        , 0.        ,\n",
              "       0.        , 0.0912263 , 0.62815821, 0.58645476, 0.41703449,\n",
              "       0.28149828, 0.00260647, 0.        , 0.        , 0.        ,\n",
              "       0.        , 0.        , 0.        , 0.        , 0.        ,\n",
              "       0.        , 0.        , 0.        , 0.        , 0.        ,\n",
              "       0.        , 0.        , 0.        , 0.        , 0.        ,\n",
              "       0.        , 0.        , 0.        , 0.        , 0.        ,\n",
              "       0.17804778, 0.52754898, 0.55612455, 0.55612455, 0.26157637,\n",
              "       0.05495302, 0.        , 0.        , 0.        , 0.        ,\n",
              "       0.        , 0.        , 0.        , 0.        , 0.        ,\n",
              "       0.        , 0.        , 0.        , 0.        , 0.        ,\n",
              "       0.        , 0.        , 0.        , 0.        , 0.        ,\n",
              "       0.        , 0.        , 0.        , 0.        , 0.10382122,\n",
              "       0.42912769, 0.58370594, 0.58370594, 0.34607072, 0.06229273,\n",
              "       0.        , 0.        , 0.        , 0.        , 0.        ,\n",
              "       0.        , 0.        , 0.        , 0.        , 0.        ,\n",
              "       0.        , 0.        , 0.        , 0.        , 0.        ,\n",
              "       0.        , 0.        , 0.        , 0.        , 0.        ,\n",
              "       0.        , 0.        , 0.        , 0.03864836, 0.22464358,\n",
              "       0.60871163, 0.61112716, 0.45170268, 0.        , 0.        ,\n",
              "       0.        , 0.        , 0.        , 0.        , 0.        ,\n",
              "       0.        , 0.        , 0.        , 0.        , 0.        ,\n",
              "       0.        , 0.        , 0.        , 0.        , 0.        ,\n",
              "       0.        , 0.        , 0.        , 0.        , 0.        ,\n",
              "       0.        , 0.        , 0.        , 0.56810388, 0.57723004,\n",
              "       0.56810388, 0.14601867, 0.        , 0.        , 0.        ,\n",
              "       0.        , 0.        , 0.        , 0.        , 0.        ,\n",
              "       0.        , 0.        , 0.        , 0.        , 0.        ,\n",
              "       0.        , 0.        , 0.        , 0.        , 0.        ,\n",
              "       0.        , 0.        , 0.        , 0.0973284 , 0.27505852,\n",
              "       0.38719776, 0.53530619, 0.53530619, 0.43797779, 0.00423167,\n",
              "       0.        , 0.        , 0.        , 0.        , 0.        ,\n",
              "       0.        , 0.        , 0.        , 0.        , 0.        ,\n",
              "       0.        , 0.        , 0.        , 0.        , 0.        ,\n",
              "       0.        , 0.        , 0.        , 0.        , 0.0646848 ,\n",
              "       0.24547053, 0.37981588, 0.41962191, 0.41962191, 0.41962191,\n",
              "       0.41464616, 0.3018624 , 0.        , 0.        , 0.        ,\n",
              "       0.        , 0.        , 0.        , 0.        , 0.        ,\n",
              "       0.        , 0.        , 0.        , 0.        , 0.        ,\n",
              "       0.        , 0.        , 0.        , 0.        , 0.        ,\n",
              "       0.03972867, 0.1887112 , 0.36583488, 0.41880645, 0.41880645,\n",
              "       0.41880645, 0.41880645, 0.33272765, 0.12911819, 0.        ,\n",
              "       0.        , 0.        , 0.        , 0.        , 0.        ,\n",
              "       0.        , 0.        , 0.        , 0.        , 0.        ,\n",
              "       0.        , 0.        , 0.        , 0.        , 0.        ,\n",
              "       0.        , 0.03876324, 0.11123366, 0.35898134, 0.42639568,\n",
              "       0.42639568, 0.42639568, 0.42639568, 0.33370097, 0.13651403,\n",
              "       0.00337072, 0.        , 0.        , 0.        , 0.        ,\n",
              "       0.        , 0.        , 0.        , 0.        , 0.        ,\n",
              "       0.        , 0.        , 0.        , 0.        , 0.        ,\n",
              "       0.        , 0.        , 0.02927437, 0.27810651, 0.35617149,\n",
              "       0.41146752, 0.41146752, 0.41146752, 0.41146752, 0.317139  ,\n",
              "       0.13010831, 0.01463718, 0.        , 0.        , 0.        ,\n",
              "       0.        , 0.        , 0.        , 0.        , 0.        ,\n",
              "       0.        , 0.        , 0.        , 0.        , 0.        ,\n",
              "       0.        , 0.        , 0.        , 0.08516473, 0.26633334,\n",
              "       0.34994962, 0.39175776, 0.39175776, 0.39175776, 0.39175776,\n",
              "       0.37782171, 0.2059438 , 0.01703295, 0.        , 0.        ,\n",
              "       0.        , 0.        , 0.        , 0.        , 0.        ,\n",
              "       0.        , 0.        , 0.        , 0.        , 0.        ,\n",
              "       0.        , 0.        , 0.        , 0.        , 0.        ,\n",
              "       0.        , 0.25195037, 0.46870179, 0.46870179, 0.46870179,\n",
              "       0.39274617, 0.25009779, 0.24454007, 0.02964122, 0.        ,\n",
              "       0.        , 0.        , 0.        , 0.        , 0.        ,\n",
              "       0.        , 0.        , 0.        , 0.        , 0.        ,\n",
              "       0.        , 0.        , 0.        , 0.        , 0.        ,\n",
              "       0.        , 0.        , 0.        , 0.        , 0.        ,\n",
              "       0.        , 0.        , 0.        , 0.        , 0.        ,\n",
              "       0.        , 0.        , 0.        , 0.        , 0.        ,\n",
              "       0.        , 0.        , 0.        , 0.        , 0.        ,\n",
              "       0.        , 0.        , 0.        , 0.        , 0.        ,\n",
              "       0.        , 0.        , 0.        , 0.        , 0.        ,\n",
              "       0.        , 0.        , 0.        , 0.        , 0.        ,\n",
              "       0.        , 0.        , 0.        , 0.        , 0.        ,\n",
              "       0.        , 0.        , 0.        , 0.        , 0.        ,\n",
              "       0.        , 0.        , 0.        , 0.        , 0.        ,\n",
              "       0.        , 0.        , 0.        , 0.        , 0.        ,\n",
              "       0.        , 0.        , 0.        , 0.        , 0.        ,\n",
              "       0.        , 0.        , 0.        , 0.        , 0.        ,\n",
              "       0.        , 0.        , 0.        , 0.        , 0.        ,\n",
              "       0.        , 0.        , 0.        , 0.        , 0.        ,\n",
              "       0.        , 0.        , 0.        , 0.        , 0.        ,\n",
              "       0.        , 0.        , 0.        , 0.        ])"
            ]
          },
          "metadata": {
            "tags": []
          },
          "execution_count": 8
        }
      ]
    },
    {
      "cell_type": "code",
      "metadata": {
        "id": "5jnXnLdhyirD",
        "colab_type": "code",
        "outputId": "6b4f8ab6-f593-4880-d329-2e4f479d3afa",
        "colab": {
          "base_uri": "https://localhost:8080/",
          "height": 282
        }
      },
      "source": [
        "#Let's look at the image that corresponds to the first row of X\n",
        "plt.imshow(x_train[0], cmap = plt.cm.binary)"
      ],
      "execution_count": 0,
      "outputs": [
        {
          "output_type": "execute_result",
          "data": {
            "text/plain": [
              "<matplotlib.image.AxesImage at 0x7fb73ff6eac8>"
            ]
          },
          "metadata": {
            "tags": []
          },
          "execution_count": 9
        },
        {
          "output_type": "display_data",
          "data": {
            "image/png": "[encoded data removed]",
            "text/plain": [
              "<Figure size 432x288 with 1 Axes>"
            ]
          },
          "metadata": {
            "tags": []
          }
        }
      ]
    },
    {
      "cell_type": "code",
      "metadata": {
        "id": "TI5oVak3ypgb",
        "colab_type": "code",
        "colab": {}
      },
      "source": [
        "a= X.shape\n",
        "\n",
        "input_layer_size  = a[1];  # 28x28 Input Images of Digits\n",
        "hidden_layer_size = 25;   # 25 hidden units\n",
        "num_labels = 10;          # 10 labels, from 0 to 9\n",
        "lambd = 2;\n",
        "alpha = 2;"
      ],
      "execution_count": 0,
      "outputs": []
    },
    {
      "cell_type": "code",
      "metadata": {
        "id": "CfH6SVUP20Sm",
        "colab_type": "code",
        "colab": {}
      },
      "source": [
        "theta1 = np.zeros([input_layer_size+1, hidden_layer_size]);\n",
        "theta2 = np.zeros([hidden_layer_size+1, num_labels]);"
      ],
      "execution_count": 0,
      "outputs": []
    },
    {
      "cell_type": "code",
      "metadata": {
        "id": "xJQ0oVQk3B_0",
        "colab_type": "code",
        "colab": {}
      },
      "source": [
        "epsilon_init = 0.1;\n",
        "theta1 = np.random.uniform(low=0, high=1, size=(input_layer_size+1, hidden_layer_size)) * 2 * epsilon_init - epsilon_init;\n",
        "\n",
        "epsilon_init = 0.1;\n",
        "theta2 = np.random.uniform(low=0, high=1, size=(hidden_layer_size+1, num_labels)) * 2 * epsilon_init - epsilon_init;"
      ],
      "execution_count": 0,
      "outputs": []
    },
    {
      "cell_type": "code",
      "metadata": {
        "id": "MXyNE4F5FnTX",
        "colab_type": "code",
        "colab": {}
      },
      "source": [
        "def sigmoid(x):\n",
        "  return 1/(1 + np.exp(-x)) "
      ],
      "execution_count": 0,
      "outputs": []
    },
    {
      "cell_type": "code",
      "metadata": {
        "id": "fXDrQDj5r8Jn",
        "colab_type": "code",
        "colab": {}
      },
      "source": [
        "def sigmoidGradient(z):\n",
        "  s  = 1/(1+np.exp(-z));\n",
        "  return s*(1-s);"
      ],
      "execution_count": 0,
      "outputs": []
    },
    {
      "cell_type": "code",
      "metadata": {
        "id": "HfeInMMt4g1z",
        "colab_type": "code",
        "colab": {}
      },
      "source": [
        "Z1 = np.dot(np.concatenate((np.ones([a[0],1]), X), axis = 1),theta1);"
      ],
      "execution_count": 0,
      "outputs": []
    },
    {
      "cell_type": "code",
      "metadata": {
        "id": "PdBfFbPc4iKk",
        "colab_type": "code",
        "colab": {}
      },
      "source": [
        "first_Layer_Output = sigmoid(Z1);"
      ],
      "execution_count": 0,
      "outputs": []
    },
    {
      "cell_type": "code",
      "metadata": {
        "id": "gkWarg6QDnv5",
        "colab_type": "code",
        "outputId": "356b169b-6ae0-400c-c7df-4d96bf478d62",
        "colab": {
          "base_uri": "https://localhost:8080/",
          "height": 34
        }
      },
      "source": [
        "a= first_Layer_Output.shape\n",
        "Z2 = np.dot(np.concatenate((np.ones([a[0],1]), first_Layer_Output), axis = 1),theta2);\n",
        "second_Layer_Output = sigmoid(Z2);\n",
        "second_Layer_Output.shape"
      ],
      "execution_count": 0,
      "outputs": [
        {
          "output_type": "execute_result",
          "data": {
            "text/plain": [
              "(60000, 10)"
            ]
          },
          "metadata": {
            "tags": []
          },
          "execution_count": 17
        }
      ]
    },
    {
      "cell_type": "code",
      "metadata": {
        "id": "7ci6meiKHB4T",
        "colab_type": "code",
        "colab": {}
      },
      "source": [
        "YMat = np.zeros(second_Layer_Output.shape);\n",
        "a = second_Layer_Output.shape;"
      ],
      "execution_count": 0,
      "outputs": []
    },
    {
      "cell_type": "code",
      "metadata": {
        "id": "yGeCPVK8IZZq",
        "colab_type": "code",
        "outputId": "61568834-ed9d-413c-b6ea-5c04e9d2d88c",
        "colab": {
          "base_uri": "https://localhost:8080/",
          "height": 34
        }
      },
      "source": [
        "YMat.shape"
      ],
      "execution_count": 0,
      "outputs": [
        {
          "output_type": "execute_result",
          "data": {
            "text/plain": [
              "(60000, 10)"
            ]
          },
          "metadata": {
            "tags": []
          },
          "execution_count": 19
        }
      ]
    },
    {
      "cell_type": "code",
      "metadata": {
        "id": "_mql2CRWIanV",
        "colab_type": "code",
        "colab": {}
      },
      "source": [
        "for i in range(0,a[0]):\n",
        "    YMat[i, y[i]] = 1;"
      ],
      "execution_count": 0,
      "outputs": []
    },
    {
      "cell_type": "code",
      "metadata": {
        "id": "nFzQudeeYpVB",
        "colab_type": "code",
        "outputId": "1ca36978-deaa-4c77-d14a-aafed430dd9e",
        "colab": {
          "base_uri": "https://localhost:8080/",
          "height": 141
        }
      },
      "source": [
        "YMat"
      ],
      "execution_count": 0,
      "outputs": [
        {
          "output_type": "execute_result",
          "data": {
            "text/plain": [
              "array([[0., 0., 0., ..., 0., 0., 0.],\n",
              "       [1., 0., 0., ..., 0., 0., 0.],\n",
              "       [0., 0., 0., ..., 0., 0., 0.],\n",
              "       ...,\n",
              "       [0., 0., 0., ..., 0., 0., 0.],\n",
              "       [0., 0., 0., ..., 0., 0., 0.],\n",
              "       [0., 0., 0., ..., 0., 1., 0.]])"
            ]
          },
          "metadata": {
            "tags": []
          },
          "execution_count": 21
        }
      ]
    },
    {
      "cell_type": "markdown",
      "metadata": {
        "id": "DYWd05XUaIjC",
        "colab_type": "text"
      },
      "source": [
        "**Assignment 7.1 (2 marks)**\n",
        "\n",
        "Comment the following blocks of code in detail"
      ]
    },
    {
      "cell_type": "code",
      "metadata": {
        "id": "6QeklXf2a_df",
        "colab_type": "code",
        "colab": {}
      },
      "source": [
        "no_of_Interations = 100;\n",
        "J = np.zeros([no_of_Interations,1]);\n",
        "\n",
        "for i in range(0,no_of_Interations):\n",
        "  a= X.shape;\n",
        "  Z1 = np.dot(np.concatenate((np.ones([a[0],1]), X), axis = 1),theta1);\n",
        "  first_Layer_Output = sigmoid(Z1);\n",
        "\n",
        "  a= first_Layer_Output.shape\n",
        "  Z2 = np.dot(np.concatenate((np.ones([a[0],1]), first_Layer_Output), axis = 1),theta2);\n",
        "  second_Layer_Output = sigmoid(Z2);\n",
        "  \n",
        "  J[i] = (-1/a[1])*np.sum(YMat*np.log(second_Layer_Output) + (1-YMat)*np.log(1-second_Layer_Output)) + (lambd/(2*a[1]))*np.sum(theta1[1:,:]*theta1[1:,:]) + (lambd/(2*a[1]))*np.sum(theta2[1:,:]*theta2[1:,:]);\n",
        "\n",
        "  da2dz2 = (second_Layer_Output - YMat);\n",
        "  da1dz1 = da2dz2.dot(np.transpose(theta2[1:,:]))*sigmoidGradient(Z1);\n",
        "  \n",
        "  b = second_Layer_Output.shape;\n",
        "  Theta2_grad = np.dot(np.transpose(np.concatenate((np.ones([a[0],1]), first_Layer_Output),1)),da2dz2);\n",
        "  Theta2_grad = Theta2_grad +lambd*np.concatenate((np.zeros([1, b[1]]), theta2[1:,:]),0);\n",
        "  \n",
        "  Theta1_grad = np.dot(np.transpose(np.concatenate((np.ones([a[0],1]), X),1)),da1dz1);\n",
        "  Theta1_grad = Theta1_grad + lambd*np.concatenate((np.zeros([1, a[1]]), theta1[1:,:]),0);\n",
        "  \n",
        "  Theta2_grad = Theta2_grad/a[0];\n",
        "  Theta1_grad = Theta1_grad/a[0];\n",
        "  \n",
        "  theta1 = theta1- alpha*Theta1_grad;\n",
        "  theta2 = theta2 - alpha*Theta2_grad;\n",
        "\n",
        "  if(i%10 == 0):\n",
        "    plt.plot(J[0:i]);\n",
        "    plt.title('Cost function reduction for lambda = '+ str(lambd)+ ' and alpha = '+ str(alpha));\n",
        "    plt.xlabel('Iteration number');\n",
        "    plt.ylabel('Cost function (J\\theta)');\n",
        "    plt.show();\n",
        "    plt.pause(0.05);\n"
      ],
      "execution_count": 0,
      "outputs": []
    },
    {
      "cell_type": "code",
      "metadata": {
        "id": "H3ATRLccwTz-",
        "colab_type": "code",
        "outputId": "55beb559-9cd3-4a10-f52d-9836a4407c84",
        "colab": {
          "base_uri": "https://localhost:8080/",
          "height": 34
        }
      },
      "source": [
        "#Evaluation of training set%%\n",
        "a= X.shape;\n",
        "Z1 = np.dot(np.concatenate((np.ones([a[0],1]), X), axis = 1),theta1);\n",
        "first_Layer_Output = sigmoid(Z1);\n",
        "\n",
        "a= first_Layer_Output.shape\n",
        "Z2 = np.dot(np.concatenate((np.ones([a[0],1]), first_Layer_Output), axis = 1),theta2);\n",
        "second_Layer_Output = sigmoid(Z2);\n",
        "\n",
        "I = np.zeros(y.shape);\n",
        "training_Error_Percentage = 0;\n",
        "for i in range(0,a[0]):\n",
        "    I[i] = np.argmax(second_Layer_Output[i,:]);\n",
        "    if(I[i] == y[i]):\n",
        "      training_Error_Percentage = training_Error_Percentage+1;\n",
        "training_Error_Percentage = 100*training_Error_Percentage/a[0];\n",
        "print(training_Error_Percentage)"
      ],
      "execution_count": 0,
      "outputs": [
        {
          "output_type": "stream",
          "text": [
            "83.61\n"
          ],
          "name": "stdout"
        }
      ]
    },
    {
      "cell_type": "code",
      "metadata": {
        "id": "U8rhnsI8y5r-",
        "colab_type": "code",
        "outputId": "3138fc4b-0698-44ec-8d4c-ff08719918ed",
        "colab": {
          "base_uri": "https://localhost:8080/",
          "height": 34
        }
      },
      "source": [
        "#Evaluation of test set\n",
        "X_test = x_test.reshape(10000,784);\n",
        "\n",
        "a= X_test.shape;\n",
        "Z1 = np.dot(np.concatenate((np.ones([a[0],1]), X_test), axis = 1),theta1);\n",
        "first_Layer_Output = sigmoid(Z1);\n",
        "\n",
        "a= first_Layer_Output.shape\n",
        "Z2 = np.dot(np.concatenate((np.ones([a[0],1]), first_Layer_Output), axis = 1),theta2);\n",
        "second_Layer_Output = sigmoid(Z2);\n",
        "\n",
        "I = np.zeros(y_test.shape);\n",
        "test_Error_Percentage = 0;\n",
        "for i in range(0,a[0]):\n",
        "    I[i] = np.argmax(second_Layer_Output[i,:]);\n",
        "    if(I[i] == y_test[i]):\n",
        "      test_Error_Percentage = test_Error_Percentage+1;\n",
        "test_Error_Percentage = 100*test_Error_Percentage/a[0];\n",
        "print(test_Error_Percentage)"
      ],
      "execution_count": 0,
      "outputs": [
        {
          "output_type": "stream",
          "text": [
            "84.3\n"
          ],
          "name": "stdout"
        }
      ]
    },
    {
      "cell_type": "markdown",
      "metadata": {
        "id": "67gBBUSTcXVR",
        "colab_type": "text"
      },
      "source": [
        "**Assignment 7.2 (1 mark)**\n",
        "Show any 20 images in a grid and set their title as \"Actual number/Predicted number\"\n"
      ]
    }
  ]
}